{
 "cells": [
  {
   "cell_type": "markdown",
   "metadata": {},
   "source": [
    "https://www.machinelearningplus.com/python/101-pandas-exercises-python/"
   ]
  },
  {
   "cell_type": "code",
   "execution_count": 23,
   "metadata": {},
   "outputs": [],
   "source": [
    "from IPython.core.interactiveshell import InteractiveShell\n",
    "InteractiveShell.ast_node_interactivity = \"all\""
   ]
  },
  {
   "cell_type": "markdown",
   "metadata": {},
   "source": [
    "### Read Data"
   ]
  },
  {
   "cell_type": "code",
   "execution_count": null,
   "metadata": {},
   "outputs": [],
   "source": [
    "# convert values\n",
    "pd.read_csv('.csv', converters={'col': lambda x: })\n",
    "# read specified columns\n",
    "pd.read_csv('.csv', usecols=[col1, col2])"
   ]
  },
  {
   "cell_type": "markdown",
   "metadata": {},
   "source": [
    "### Series"
   ]
  },
  {
   "cell_type": "code",
   "execution_count": null,
   "metadata": {},
   "outputs": [],
   "source": [
    "# intersect, union\n",
    "pd.Series(np.union1D(s1, s2))\n",
    "pd.Series(np.intersect1d(s1, s2))"
   ]
  },
  {
   "cell_type": "code",
   "execution_count": null,
   "metadata": {},
   "outputs": [],
   "source": [
    "# keep only top 2 most frequent values as it is and replace everything else as ‘Other’?\n",
    "s[~s.isin(s.value_counts().index[:2])] = 'Other'\n",
    "\n",
    "# index of meeting conditions\n",
    "np.argwhere(s.to_numpy() is True)\n",
    "\n",
    "# flatten\n",
    "np.array(s).flatten()\n",
    "\n"
   ]
  },
  {
   "cell_type": "code",
   "execution_count": 31,
   "metadata": {},
   "outputs": [
    {
     "data": {
      "text/plain": [
       "(array([2, 6, 9]),)"
      ]
     },
     "execution_count": 31,
     "metadata": {},
     "output_type": "execute_result"
    },
    {
     "data": {
      "text/plain": [
       "(array([3, 5]),)"
      ]
     },
     "execution_count": 31,
     "metadata": {},
     "output_type": "execute_result"
    },
    {
     "data": {
      "text/plain": [
       "array([[2],\n",
       "       [6],\n",
       "       [9]])"
      ]
     },
     "execution_count": 31,
     "metadata": {},
     "output_type": "execute_result"
    }
   ],
   "source": [
    "# e.g.\n",
    "df = pd.DataFrame({'fruit1': np.random.choice(['apple', 'orange', 'banana'], 10),\n",
    "                    'fruit2': np.random.choice(['apple', 'orange', 'banana'], 10)})\n",
    "\n",
    "# Solution\n",
    "np.where(df.fruit1 == df.fruit2)\n",
    "np.where(df.fruit1 == 'apple')\n",
    "np.argwhere((df.fruit1 == df.fruit2).to_numpy())"
   ]
  },
  {
   "cell_type": "markdown",
   "metadata": {},
   "source": [
    "### Indexing    "
   ]
  },
  {
   "cell_type": "code",
   "execution_count": null,
   "metadata": {},
   "outputs": [],
   "source": [
    "df.col.idxmax()\n",
    "\n",
    "# filtering by mask of index\n",
    "mask = df.col.map(lambda x: x is True) # index of bool as mask\n",
    "df.loc[mask, :]\n",
    "\n",
    "# slice as series or dataframe\n",
    "df[col] # series\n",
    "df.loc[:, col] # series\n",
    "df[[col]] # df\n",
    "df.loc[:, [col]] # df\n",
    "\n",
    "# stride\n",
    "df.iloc[::5, :]\n",
    "# reverse\n",
    "df.iloc[::-1, :]\n",
    "\n",
    "# one-hot\n",
    "df_onehot = pd.concat([pd.get_dummies(df[col])], df[rest_of_col], axis=1)"
   ]
  },
  {
   "cell_type": "markdown",
   "metadata": {},
   "source": [
    "### Describe function\n"
   ]
  },
  {
   "cell_type": "code",
   "execution_count": null,
   "metadata": {},
   "outputs": [],
   "source": [
    ".describe()\n",
    ".mean(axis=0)\n",
    ".unique()\n",
    "value_counts()"
   ]
  },
  {
   "cell_type": "markdown",
   "metadata": {},
   "source": [
    "### Map and Apply"
   ]
  },
  {
   "cell_type": "code",
   "execution_count": null,
   "metadata": {},
   "outputs": [],
   "source": [
    "# map is only for series\n",
    "s.map(lambda)\n",
    "df.col.map({1:'a', 2:'b'})\n",
    "\n",
    "df.apply(lambda row: row.max() - row.min(), axis=)\n",
    "df.col.apply(lambda)\n",
    "\n",
    "# element-wise apply on df\n",
    "df.applymap(lambda)\n",
    "\n",
    "# apply with global variables\n",
    "global_var = 'a'\n",
    "df.apply(lambda x, global_va: x.fillna(global_var), args=(global_var,))"
   ]
  },
  {
   "cell_type": "markdown",
   "metadata": {},
   "source": [
    "### Scaling and Normalization"
   ]
  },
  {
   "cell_type": "markdown",
   "metadata": {},
   "source": [
    "Scaling: change the range of data, say [0, 100] -> [0,1]  \n",
    "normalization: change the distribution to normal"
   ]
  },
  {
   "cell_type": "code",
   "execution_count": null,
   "metadata": {},
   "outputs": [],
   "source": [
    "# scaling\n",
    "from mlxtend.preprocessing import minmax_scaling\n",
    "minmax_scaling(s)\n",
    "\n",
    "# normalization\n",
    "from scipy import stats\n",
    "stats.boxcox(s)\n",
    "\n",
    "# normalize all columns\n",
    "df.apply(lambda x: ((x - x.mean())/x.std()).round(2))"
   ]
  },
  {
   "cell_type": "markdown",
   "metadata": {},
   "source": [
    "### Group and Sort"
   ]
  },
  {
   "cell_type": "markdown",
   "metadata": {},
   "source": [
    "Each group generated is a slice of df"
   ]
  },
  {
   "cell_type": "code",
   "execution_count": null,
   "metadata": {},
   "outputs": [],
   "source": [
    "\n",
    ".groupby('a').b.count()\n",
    ".groupby('col').apply(lambda df: )\n",
    ".groupby([col1, col2]).col3.agg([len, min, max])\n",
    "\n",
    "# reset index to remove multi-indexes\n",
    "df_grouped.reset_index()\n",
    "\n",
    "# sort by value\n",
    "df.sort_values(by=[col1, col2], ascending=False)\n",
    "# sort by index\n",
    "df.sort_index(axis=, ascentding=False)"
   ]
  },
  {
   "cell_type": "code",
   "execution_count": 27,
   "metadata": {},
   "outputs": [
    {
     "data": {
      "text/plain": [
       "[('apple',\n",
       "  0    0.083407\n",
       "  3    0.927535\n",
       "  6    0.674664\n",
       "  Name: col2, dtype: float64),\n",
       " ('banana',\n",
       "  1    0.529740\n",
       "  4    0.857285\n",
       "  7    0.546951\n",
       "  Name: col2, dtype: float64),\n",
       " ('orange',\n",
       "  2    0.425301\n",
       "  5    0.862884\n",
       "  8    0.755118\n",
       "  Name: col2, dtype: float64)]"
      ]
     },
     "execution_count": 27,
     "metadata": {},
     "output_type": "execute_result"
    },
    {
     "data": {
      "text/html": [
       "<div>\n",
       "<style scoped>\n",
       "    .dataframe tbody tr th:only-of-type {\n",
       "        vertical-align: middle;\n",
       "    }\n",
       "\n",
       "    .dataframe tbody tr th {\n",
       "        vertical-align: top;\n",
       "    }\n",
       "\n",
       "    .dataframe thead th {\n",
       "        text-align: right;\n",
       "    }\n",
       "</style>\n",
       "<table border=\"1\" class=\"dataframe\">\n",
       "  <thead>\n",
       "    <tr style=\"text-align: right;\">\n",
       "      <th></th>\n",
       "      <th>min</th>\n",
       "    </tr>\n",
       "    <tr>\n",
       "      <th>col1</th>\n",
       "      <th></th>\n",
       "    </tr>\n",
       "  </thead>\n",
       "  <tbody>\n",
       "    <tr>\n",
       "      <th>apple</th>\n",
       "      <td>0.083407</td>\n",
       "    </tr>\n",
       "    <tr>\n",
       "      <th>banana</th>\n",
       "      <td>0.529740</td>\n",
       "    </tr>\n",
       "    <tr>\n",
       "      <th>orange</th>\n",
       "      <td>0.425301</td>\n",
       "    </tr>\n",
       "  </tbody>\n",
       "</table>\n",
       "</div>"
      ],
      "text/plain": [
       "             min\n",
       "col1            \n",
       "apple   0.083407\n",
       "banana  0.529740\n",
       "orange  0.425301"
      ]
     },
     "execution_count": 27,
     "metadata": {},
     "output_type": "execute_result"
    },
    {
     "data": {
      "text/html": [
       "<div>\n",
       "<style scoped>\n",
       "    .dataframe tbody tr th:only-of-type {\n",
       "        vertical-align: middle;\n",
       "    }\n",
       "\n",
       "    .dataframe tbody tr th {\n",
       "        vertical-align: top;\n",
       "    }\n",
       "\n",
       "    .dataframe thead th {\n",
       "        text-align: right;\n",
       "    }\n",
       "</style>\n",
       "<table border=\"1\" class=\"dataframe\">\n",
       "  <thead>\n",
       "    <tr style=\"text-align: right;\">\n",
       "      <th></th>\n",
       "      <th>col1</th>\n",
       "      <th>col2</th>\n",
       "      <th>col3</th>\n",
       "    </tr>\n",
       "  </thead>\n",
       "  <tbody>\n",
       "    <tr>\n",
       "      <th>0</th>\n",
       "      <td>apple</td>\n",
       "      <td>0.083407</td>\n",
       "      <td>4</td>\n",
       "    </tr>\n",
       "    <tr>\n",
       "      <th>3</th>\n",
       "      <td>apple</td>\n",
       "      <td>0.927535</td>\n",
       "      <td>14</td>\n",
       "    </tr>\n",
       "    <tr>\n",
       "      <th>6</th>\n",
       "      <td>apple</td>\n",
       "      <td>0.674664</td>\n",
       "      <td>11</td>\n",
       "    </tr>\n",
       "  </tbody>\n",
       "</table>\n",
       "</div>"
      ],
      "text/plain": [
       "    col1      col2  col3\n",
       "0  apple  0.083407     4\n",
       "3  apple  0.927535    14\n",
       "6  apple  0.674664    11"
      ]
     },
     "execution_count": 27,
     "metadata": {},
     "output_type": "execute_result"
    }
   ],
   "source": [
    "df = pd.DataFrame({'col1': ['apple', 'banana', 'orange'] * 3,\n",
    "                   'col2': np.random.rand(9),\n",
    "                   'col3': np.random.randint(0, 15, 9)})\n",
    "\n",
    "df_grouped = df.groupby(['col1'])\n",
    "list(df_grouped.col2)\n",
    "df_grouped.col2.agg([min])\n",
    "df_grouped.get_group('apple')"
   ]
  },
  {
   "cell_type": "markdown",
   "metadata": {},
   "source": [
    "### Dtypes "
   ]
  },
  {
   "cell_type": "code",
   "execution_count": null,
   "metadata": {},
   "outputs": [],
   "source": [
    "df.col1.dtype\n",
    "df.dtypes # columns consisting entirely of strings is object type\n",
    "# how many columns under each dtype\n",
    "df.dtypes.value_counts()\n"
   ]
  },
  {
   "cell_type": "markdown",
   "metadata": {},
   "source": [
    "#### Date parsing"
   ]
  },
  {
   "cell_type": "code",
   "execution_count": null,
   "metadata": {},
   "outputs": [],
   "source": [
    "from dateutil.parser import parse\n",
    "s.map(lambda x: parse(x))\n",
    "df['parsed'] = pd.to_datetime(df[date_col], format=\"%m/%d/%y\", infer_datetime_format=True) # infer_datetime_format it's much slower than specifying the exact format of the dates.\n",
    "\n",
    "# get the day of the month\n",
    "df['parsed'].dt.day # dt.weekofyear, dayofyear, weekday_name"
   ]
  },
  {
   "cell_type": "markdown",
   "metadata": {},
   "source": [
    "### Missing Values"
   ]
  },
  {
   "cell_type": "markdown",
   "metadata": {},
   "source": [
    "Values are missing due to:\n",
    "* it doesn't exist, then no need to fill it\n",
    "* it wasn't recorded"
   ]
  },
  {
   "cell_type": "code",
   "execution_count": null,
   "metadata": {},
   "outputs": [],
   "source": [
    "df[pd.isnull(df.col)] # pd.notnull()\n",
    "# number of NaN\n",
    "missing_each_col = df.apply(lambda x: x.isnull().sum())\n",
    "missing_each_col.argmax() # col name with most missing\n",
    "\n",
    "df.dropna(thresh=n_row*0.8, drop=True, axis=)\n",
    "\n",
    "\n",
    "df.fillna()\n",
    "# replace all NA's the value that comes directly after it in the same column, then replace all the remaining na's with 0. Good when data has logical order\n",
    "df.fillna(method='bfill', axis=0).fillna(0)\n",
    "# replace with mean\n",
    "from sklearn.impute import SimpleImputer\n",
    "imputer = SimpleImputer(missing_values=np.nan, strategy='mean')\n",
    "# replace with mean\n",
    "df.apply(lambda x: x.fillna(x.mean()))\n",
    "# If missing value is denoted as NaN\n",
    "df.replace(x, y)"
   ]
  },
  {
   "cell_type": "markdown",
   "metadata": {},
   "source": [
    "### Duplicates and Unique"
   ]
  },
  {
   "cell_type": "code",
   "execution_count": null,
   "metadata": {},
   "outputs": [],
   "source": [
    "df.nunique()\n",
    "# get unique value\n",
    "pd.unique(df.col)\n",
    "# unique value and counts\n",
    "df.col.value_counts()"
   ]
  },
  {
   "cell_type": "code",
   "execution_count": 37,
   "metadata": {},
   "outputs": [
    {
     "data": {
      "text/plain": [
       "a  b  c  d\n",
       "1  1  7  3    1\n",
       "2  8  1  6    1\n",
       "      3  6    1\n",
       "4  7  5  3    1\n",
       "9  3  1  1    1\n",
       "dtype: int64"
      ]
     },
     "execution_count": 37,
     "metadata": {},
     "output_type": "execute_result"
    },
    {
     "data": {
      "text/plain": [
       "1    5\n",
       "3    4\n",
       "2    2\n",
       "8    2\n",
       "6    2\n",
       "7    2\n",
       "4    1\n",
       "5    1\n",
       "9    1\n",
       "dtype: int64"
      ]
     },
     "execution_count": 37,
     "metadata": {},
     "output_type": "execute_result"
    }
   ],
   "source": [
    "# e.g.\n",
    "df = pd.DataFrame(np.random.randint(1, 10, 20).reshape(-1, 4), columns = list('abcd'))\n",
    "df.value_counts()\n",
    "pd.value_counts(df.values.flatten())"
   ]
  },
  {
   "cell_type": "code",
   "execution_count": null,
   "metadata": {},
   "outputs": [],
   "source": [
    "# first : Mark duplicates as True except for the first occurrence.\n",
    "# last : Mark duplicates as True except for the last occurrence.\n",
    "# False : Mark all duplicates as True.\n",
    "df.duplicated(subset=[col1], keep=) \n",
    "\n",
    "# number of duplicates\n",
    "df.duplicated().sum()\n",
    "\n",
    "# drop duplicates\n",
    "df.drop_duplicates(subset=, )\n"
   ]
  },
  {
   "cell_type": "markdown",
   "metadata": {},
   "source": [
    "### Renaming"
   ]
  },
  {
   "cell_type": "code",
   "execution_count": null,
   "metadata": {},
   "outputs": [],
   "source": [
    "df.rename(columns={col1: col2})\n",
    "\n",
    "# rename all index/columns with lanmda\n",
    "df.rename_axis(lambda x: x*2, axis=\"index\")\n",
    "df.rename_axis(lambda x: x+\"_renamed\", axis=\"columns\")"
   ]
  },
  {
   "cell_type": "markdown",
   "metadata": {},
   "source": []
  },
  {
   "cell_type": "markdown",
   "metadata": {},
   "source": [
    "### Combining   "
   ]
  },
  {
   "cell_type": "code",
   "execution_count": null,
   "metadata": {},
   "outputs": [],
   "source": [
    "df1.join(df2, on=, how=, lsuffix=, rsuffix=)\n",
    "\n",
    "# e.g\n",
    "df1 = pd.DataFrame({'fruit': ['apple', 'banana', 'orange'] * 3,\n",
    "                    'weight': ['high', 'medium', 'low'] * 3,\n",
    "                    'price': np.random.randint(0, 15, 9)})\n",
    "df2 = pd.DataFrame({'pazham': ['apple', 'orange', 'pine'] * 2,\n",
    "                    'kilo': ['high', 'low'] * 3,\n",
    "                    'price': np.random.randint(0, 15, 6)})\n",
    "pd.merge(df1, df2, how='inner', left_on=['fruit', 'weight'], right_on=['pazham', 'pounds'], suffixes=['_left', '_right'])"
   ]
  }
 ],
 "metadata": {
  "kernelspec": {
   "display_name": "base",
   "language": "python",
   "name": "base"
  },
  "language_info": {
   "codemirror_mode": {
    "name": "ipython",
    "version": 3
   },
   "file_extension": ".py",
   "mimetype": "text/x-python",
   "name": "python",
   "nbconvert_exporter": "python",
   "pygments_lexer": "ipython3",
   "version": "3.8.5"
  },
  "orig_nbformat": 4
 },
 "nbformat": 4,
 "nbformat_minor": 2
}
